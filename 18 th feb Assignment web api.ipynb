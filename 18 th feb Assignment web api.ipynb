{
 "cells": [
  {
   "cell_type": "markdown",
   "id": "0d7110ea-c709-4809-bfd2-e8bb5bf30357",
   "metadata": {},
   "source": [
    "# Q1. What is an API? Give an example, where an API is used in real life."
   ]
  },
  {
   "cell_type": "markdown",
   "id": "2a8404c8-e4e5-4210-825d-584e7dbd4740",
   "metadata": {},
   "source": [
    "1. An Api is the software that is used to access the data from the web. It is the software just like intemidiator and it is used to communicate with the web.\n",
    "2. An Api is an Interface that allow two independent software componants to Exchange information. An Api acts as an Intermidiatory between "
   ]
  },
  {
   "cell_type": "markdown",
   "id": "4d9890e6-5e41-4705-8fb6-c6f27bd02770",
   "metadata": {},
   "source": [
    "# Q2. Give advantages and disadvantages of using API. "
   ]
  },
  {
   "cell_type": "markdown",
   "id": "6f1e7d2d-a3ef-4915-887f-4674a80efdd0",
   "metadata": {},
   "source": [
    "# Advantages of Api are:\n",
    "1. Increase Visibiity and traffic\n",
    "2. Seamless integration - It makes easy to integrate with the other Applications and services.\n",
    "3. Increase Efficiency - It allows you to access the data in a more Efficient way.\n",
    "4. Reduce the cost - it allows to devloper to reuse the code and functionality in multiple applications.\n",
    " \n",
    "# Disadvantages of API are :\n",
    "1. Increase Complexity - they can complex and difficult to use , making them challanging to novies devlopers.\n",
    "2. Limited Functionality - they may have not all functinality that you need , required more development work.   \n",
    "3. Security and Privacy risk - The y can Pose security and privacy risk it they're not implemented correctly. therefor it's essiential to carefully considerd risk before using them in Your Application."
   ]
  },
  {
   "cell_type": "markdown",
   "id": "ff75fbde-a48d-41d0-80eb-527e4e8072ab",
   "metadata": {
    "tags": []
   },
   "source": [
    "# Q3. What is a Web API? Differentiate between API and Web API."
   ]
  },
  {
   "cell_type": "markdown",
   "id": "869af862-e615-4bad-aff6-c2cbffb73ac4",
   "metadata": {},
   "source": [
    "1. Web API is an api  as name suggests , it can be accessed over the web usingthe HTTP protocol. It is a framework that helps you to create and devlopeHTTP based restful services. The web API can be developed by using different technologies such as java ASP.NET etc . WEB API is used in eighter a web server or a web browser.\n",
    "2. API enable software integrations since they expose some of an appication's inner data that developers use . This make an API an \"Interface\" - you can request data from an otherwise closed-off application. Remember : it's  not incommon for organizatoins to use several APIs.\n",
    "2.  WEB api are the subset of api and it generally uses HTTP protocol."
   ]
  },
  {
   "cell_type": "markdown",
   "id": "5007627f-93b7-4232-a270-5647aa90b621",
   "metadata": {},
   "source": [
    "# Q4. Explain REST and SOAP Architecture. Mention shortcomings of SOAP."
   ]
  },
  {
   "cell_type": "markdown",
   "id": "0e4892c3-08c0-44cb-b8f0-50a6fb9121e1",
   "metadata": {},
   "source": [
    "#Question 4:\n",
    "\n",
    "REST:\n",
    "\n",
    "    REST is a set of architectural principles attuned to the needs of lightweight web services and mobile applications.\n",
    "    When a request for data is sent to a REST API, it’s usually done through hypertext transfer protocol (commonly referred to as HTTP). Once a request is received, APIs designed for REST (called RESTful APIs or RESTful web services) can return messages in a variety of formats: HTML, XML, plain text, and JSON. JSON (JavaScript object notation) is favored as a message format because it can be read by any programming language (despite the name), is human- and machine-readable, and is lightweight. In this way, RESTful APIs are more flexible and can be easier to set up.\n",
    "    REST follows client server architecture and it is stateless and cacheable.\n",
    "\n",
    "SOAP:\n",
    "    \n",
    "    SOAP is a standard protocol that was first designed so that applications built with different languages and on different platforms could communicate. Because it is a protocol, it imposes built-in rules that increase its complexity and overhead, which can lead to longer page load times. However, these standards also offer built-in compliances that can make it preferable for enterprise scenarios. The built-in compliance standards include security, atomicity, consistency, isolation, and durability (ACID), which is a set of properties for ensuring reliable database transactions.\n",
    "    SOAP architecture is based on XML. Xml is a markup language\n",
    "    or file system. Internally XML uses WSDL(Web Service description language)\n",
    "    SOAP support HTTP, SMTP, TCP protocols.It is more secure than rest architecture.\n",
    "\n",
    "Shortcoming of SOAP\n",
    "    \n",
    "   1.SOAP uses XML format that must be parsed to be read. It defines many standards that must be followed while developing the SOAP applications. So it is slow and consumes more bandwidth and resource.\n",
    "   2. SOAP uses WSDL and doesn't have any other mechanism to discover the service.\n",
    "  "
   ]
  },
  {
   "cell_type": "markdown",
   "id": "2e6f6150-e09f-42e0-8f31-7dcbeb2aaae4",
   "metadata": {},
   "source": [
    "# Q5. Differentiate between REST and SOAP."
   ]
  },
  {
   "cell_type": "markdown",
   "id": "fed84a10-1943-4b2e-af2a-4ddf6972cbbb",
   "metadata": {},
   "source": [
    "Difference between REST and SOAP \n",
    "\n",
    "SOAP \n",
    "1. SOAP is a protocol .\n",
    "2. SOAP stands for simple Object Access Protocol. \n",
    "3. SOAP can't ise REST because it is a protocol.\n",
    "4. SOAP ises servives interface to expose the business logic.\n",
    "5. SOAP defines standards to be strictl followed.\n",
    "6. SOAP permits XML data format onlt.\n",
    "\n",
    "REST \n",
    "1.REST is an architecture style.\n",
    "2. REST stands foe Re-presentational state transfer.\n",
    "3. REST can ise SOAP web services because it is a concept and can use any protocol like HTTP , SOAP.\n",
    "4. REST does not define too much standerds like SOAP.\n",
    "5. REST user URI to expose business logic.\n",
    "6. REST permits different data formats such like JSON, XML plain text etc."
   ]
  },
  {
   "cell_type": "code",
   "execution_count": null,
   "id": "4d7c8a3b-5c18-49a5-be7a-351e09584c5e",
   "metadata": {},
   "outputs": [],
   "source": []
  }
 ],
 "metadata": {
  "kernelspec": {
   "display_name": "Python 3 (ipykernel)",
   "language": "python",
   "name": "python3"
  },
  "language_info": {
   "codemirror_mode": {
    "name": "ipython",
    "version": 3
   },
   "file_extension": ".py",
   "mimetype": "text/x-python",
   "name": "python",
   "nbconvert_exporter": "python",
   "pygments_lexer": "ipython3",
   "version": "3.10.8"
  }
 },
 "nbformat": 4,
 "nbformat_minor": 5
}
